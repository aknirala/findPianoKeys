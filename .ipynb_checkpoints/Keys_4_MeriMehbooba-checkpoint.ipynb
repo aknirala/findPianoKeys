{
 "cells": [
  {
   "cell_type": "code",
   "execution_count": 22,
   "metadata": {},
   "outputs": [],
   "source": [
    "import matplotlib.pyplot as plt\n",
    "from scipy.fftpack import fft\n",
    "from scipy.io import wavfile # get the api\n",
    "import numpy as np"
   ]
  },
  {
   "cell_type": "code",
   "execution_count": 3,
   "metadata": {},
   "outputs": [],
   "source": [
    "inp_file = \"Meri Mehbooba - Pardes _ Piano Cover-ysJ4JYtwZLg.wav\"\n",
    "fs, data = wavfile.read(inp_file) # load the data"
   ]
  },
  {
   "cell_type": "code",
   "execution_count": 11,
   "metadata": {},
   "outputs": [
    {
     "data": {
      "text/plain": [
       "(48000, (12958719, 2), 269.9733125, 4.0, 29.97331250000002)"
      ]
     },
     "execution_count": 11,
     "metadata": {},
     "output_type": "execute_result"
    }
   ],
   "source": [
    "fs, data.shape, data.shape[0]/fs, (data.shape[0]/fs)//60, (data.shape[0]/fs)%60"
   ]
  },
  {
   "cell_type": "code",
   "execution_count": null,
   "metadata": {},
   "outputs": [],
   "source": [
    "print(\"Sampling is done at: \", fs,\" samples per sec. Track length is: \", (data.shape[0]/fs)//60, \n",
    "     \"minutes and \", (data.shape[0]/fs)%60, \" seconds.\")\n"
   ]
  },
  {
   "cell_type": "code",
   "execution_count": 24,
   "metadata": {},
   "outputs": [
    {
     "data": {
      "text/plain": [
       "(numpy.int16, 12958719, 32767, -32768)"
      ]
     },
     "execution_count": 24,
     "metadata": {},
     "output_type": "execute_result"
    }
   ],
   "source": [
    "type(data[0,0]), len(data[:,0]), np.max(data[:,0]), np.min(data[:,0])"
   ]
  },
  {
   "cell_type": "code",
   "execution_count": null,
   "metadata": {},
   "outputs": [],
   "source": [
    "\"\"\"\n",
    "This is 16 bit data.. Anyways we are simply concerned with frequency here.\n",
    "\n",
    "Approach: Assume that everything below first quantile is noise and remove that.\n",
    " - Would be good to do it for a rolling window of say 5 seconds...\n",
    " \n",
    " Then assume that minimum 100ms is needed to make a switch between the keys.\n",
    " So divide it in segments of two running 100ms where overlap is between 50ms.\n",
    " Now, mark each segment with either a frequency or silence.\n",
    " If two adjacent segments have same frequency then merge them as same segment....\n",
    "\"\"\""
   ]
  },
  {
   "cell_type": "code",
   "execution_count": 41,
   "metadata": {},
   "outputs": [
    {
     "data": {
      "text/plain": [
       "array([ 198.5,  598. , 1596.5, 3305. , 5494.5])"
      ]
     },
     "execution_count": 41,
     "metadata": {},
     "output_type": "execute_result"
    }
   ],
   "source": [
    "aggdata = np.mean(data, axis=1)\n",
    "absdata = np.abs(aggdata)\n",
    "np.quantile(absdata, [0.1, 0.25, 0.5, 0.75, 0.9])"
   ]
  },
  {
   "cell_type": "code",
   "execution_count": 44,
   "metadata": {},
   "outputs": [],
   "source": [
    "#So we'll scan aggdata and moment something drops below 580 we'll start setting next sequence zero\n",
    "#And we'll set it to it's value only if it exceeds 620\n",
    "l_val = 580\n",
    "h_val = 620\n",
    "keep = True\n",
    "for i in range(len(absdata)):\n",
    "    if keep:\n",
    "        if absdata[i] < l_val:\n",
    "            keep = False\n",
    "    else:\n",
    "        if absdata[i] > h_val:\n",
    "            keep = True\n",
    "    if not keep:\n",
    "        aggdata[i] = 0"
   ]
  },
  {
   "cell_type": "code",
   "execution_count": 46,
   "metadata": {},
   "outputs": [
    {
     "data": {
      "text/plain": [
       "0.49896240234375"
      ]
     },
     "execution_count": 46,
     "metadata": {},
     "output_type": "execute_result"
    }
   ],
   "source": [
    "32700/2**16\n"
   ]
  },
  {
   "cell_type": "code",
   "execution_count": null,
   "metadata": {},
   "outputs": [],
   "source": []
  },
  {
   "cell_type": "code",
   "execution_count": 57,
   "metadata": {},
   "outputs": [
    {
     "name": "stdout",
     "output_type": "stream",
     "text": [
      "0\n",
      "2400\n",
      "4800\n",
      "7200\n",
      "9600\n",
      "12000\n",
      "14400\n",
      "16800\n",
      "19200\n",
      "21600\n",
      "24000\n",
      "26400\n",
      "28800\n",
      "31200\n",
      "33600\n",
      "36000\n",
      "38400\n",
      "40800\n",
      "43200\n",
      "45600\n",
      "48000\n"
     ]
    }
   ],
   "source": [
    "#With 48000 samples per sec, 100ms is represented by 4800 and 50 msec by 2400\n",
    "smp_ct = 4800\n",
    "inc_ct = 2400\n",
    "n_bit = 16\n",
    "key_detected = []\n",
    "i = 0\n",
    "C = []\n",
    "while i + 4800 < len(absdata):\n",
    "    print(i)\n",
    "    st = i\n",
    "    ed = i + smp_ct\n",
    "    i += inc_ct\n",
    "    a = aggdata[st:ed]\n",
    "    b=[(ele/2**n_bit)*2-1 for ele in a] # this is 16-bit track, b is now normalized on [-1,1)\n",
    "    c = fft(b) # calculate fourier transform (complex numbers list)\n",
    "    d = len(c)//2  # you only need half of the fft list (real signal symmetry)\n",
    "    C.append(c[:(d-1)])\n",
    "    #plt.plot(abs(c[:(d-1)]),'r') \n",
    "    #plt.show()\n",
    "    if i > 48000:\n",
    "        break"
   ]
  },
  {
   "cell_type": "code",
   "execution_count": 69,
   "metadata": {},
   "outputs": [
    {
     "name": "stdout",
     "output_type": "stream",
     "text": [
      "0 0j\n",
      "1 0j\n",
      "2 0j\n",
      "3 0j\n",
      "4 0j\n",
      "5 0j\n",
      "6 0j\n",
      "7 0j\n",
      "8 0j\n",
      "9 0j\n",
      "10 0j\n",
      "11 0j\n",
      "12 0j\n",
      "13 0j\n",
      "14 (-0.24115336610650615+44.80737416878813j)\n",
      "15 (1.3967064306573576-399.38518205239336j)\n",
      "16 (-225.72400582715994+1148.9990054865823j)\n",
      "17 (-499.1104651326849+31.324229851270896j)\n",
      "18 (722.5838397421901-1473.5316192447087j)\n",
      "19 (-6.194568680248666-423.7904790854502j)\n",
      "20 (-462.19008965668365+554.3155071041504j)\n"
     ]
    }
   ],
   "source": [
    "for i in range(len(C)):\n",
    "    print(i, sum(C[i][1:]))"
   ]
  },
  {
   "cell_type": "code",
   "execution_count": 73,
   "metadata": {},
   "outputs": [
    {
     "name": "stderr",
     "output_type": "stream",
     "text": [
      "/home/aknirala/anaconda3/envs/facenet_37_2/lib/python3.7/site-packages/numpy/core/_asarray.py:85: ComplexWarning: Casting complex values to real discards the imaginary part\n",
      "  return array(a, dtype, copy=False, order=order)\n"
     ]
    },
    {
     "data": {
      "text/plain": [
       "[<matplotlib.lines.Line2D at 0x7fbd5266fb50>]"
      ]
     },
     "execution_count": 73,
     "metadata": {},
     "output_type": "execute_result"
    },
    {
     "data": {
      "image/png": "[encoded data removed]",
      "text/plain": [
       "<Figure size 432x288 with 1 Axes>"
      ]
     },
     "metadata": {
      "needs_background": "light"
     },
     "output_type": "display_data"
    }
   ],
   "source": [
    "plt.plot(C[14][1:])"
   ]
  },
  {
   "cell_type": "code",
   "execution_count": null,
   "metadata": {},
   "outputs": [],
   "source": []
  },
  {
   "cell_type": "code",
   "execution_count": null,
   "metadata": {},
   "outputs": [],
   "source": []
  },
  {
   "cell_type": "code",
   "execution_count": null,
   "metadata": {},
   "outputs": [],
   "source": []
  },
  {
   "cell_type": "code",
   "execution_count": 13,
   "metadata": {},
   "outputs": [],
   "source": [
    "a = data.T[0][10000:20000] # this is a two channel soundtrack, I get the first track\n",
    "b=[(ele/2**8.)*2-1 for ele in a] # this is 8-bit track, b is now normalized on [-1,1)\n",
    "\n",
    "c = fft(b) # calculate fourier transform (complex numbers list)\n",
    "d = len(c)//2  # you only need half of the fft list (real signal symmetry)\n",
    "plt.plot(abs(c[:(d-1)]),'r') \n",
    "plt.show()"
   ]
  },
  {
   "cell_type": "code",
   "execution_count": 14,
   "metadata": {},
   "outputs": [
    {
     "data": {
      "text/plain": [
       "[<matplotlib.lines.Line2D at 0x7fbd5d13b690>]"
      ]
     },
     "execution_count": 14,
     "metadata": {},
     "output_type": "execute_result"
    },
    {
     "data": {
      "image/png": "[encoded data removed]",
      "text/plain": [
       "<Figure size 432x288 with 1 Axes>"
      ]
     },
     "metadata": {
      "needs_background": "light"
     },
     "output_type": "display_data"
    }
   ],
   "source": [
    "plt.plot(b)"
   ]
  },
  {
   "cell_type": "code",
   "execution_count": 36,
   "metadata": {},
   "outputs": [
    {
     "data": {
      "text/plain": [
       "[<matplotlib.lines.Line2D at 0x7fbd5d1bfbd0>]"
      ]
     },
     "execution_count": 36,
     "metadata": {},
     "output_type": "execute_result"
    },
    {
     "data": {
      "image/png": "[encoded data removed]",
      "text/plain": [
       "<Figure size 432x288 with 1 Axes>"
      ]
     },
     "metadata": {
      "needs_background": "light"
     },
     "output_type": "display_data"
    }
   ],
   "source": [
    "#12 958 719\n",
    "plt.plot(data[-100000:,0], data[-100000:,1], \".\")"
   ]
  },
  {
   "cell_type": "code",
   "execution_count": 5,
   "metadata": {},
   "outputs": [
    {
     "data": {
      "text/plain": [
       "[<matplotlib.lines.Line2D at 0x7fbd610594d0>]"
      ]
     },
     "execution_count": 5,
     "metadata": {},
     "output_type": "execute_result"
    },
    {
     "data": {
      "image/png": "[encoded data removed]",
      "text/plain": [
       "<Figure size 432x288 with 1 Axes>"
      ]
     },
     "metadata": {
      "needs_background": "light"
     },
     "output_type": "display_data"
    }
   ],
   "source": [
    "st = 10000\n",
    "sp = 200000\n",
    "plt.plot(data.T[0][st:sp])"
   ]
  },
  {
   "cell_type": "code",
   "execution_count": null,
   "metadata": {},
   "outputs": [],
   "source": []
  },
  {
   "cell_type": "code",
   "execution_count": 25,
   "metadata": {},
   "outputs": [
    {
     "data": {
      "image/png": "[encoded data removed]",
      "text/plain": [
       "<Figure size 432x288 with 1 Axes>"
      ]
     },
     "metadata": {
      "needs_background": "light"
     },
     "output_type": "display_data"
    }
   ],
   "source": [
    "\n",
    "c = fft(b) # calculate fourier transform (complex numbers list)\n",
    "d = len(c)//2  # you only need half of the fft list (real signal symmetry)\n",
    "plt.plot(abs(c[:(d-1)]),'r') \n",
    "plt.show()"
   ]
  },
  {
   "cell_type": "code",
   "execution_count": 5,
   "metadata": {},
   "outputs": [
    {
     "name": "stdout",
     "output_type": "stream",
     "text": [
      "Collecting scipy\n",
      "  Downloading scipy-1.6.0-cp37-cp37m-manylinux1_x86_64.whl (27.4 MB)\n",
      "\u001b[K     |████████████████████████████████| 27.4 MB 10.6 MB/s eta 0:00:01\n",
      "\u001b[?25hRequirement already satisfied: numpy>=1.16.5 in /home/aknirala/anaconda3/envs/piano_37/lib/python3.7/site-packages (from scipy) (1.20.0)\n",
      "Installing collected packages: scipy\n",
      "Successfully installed scipy-1.6.0\n"
     ]
    }
   ],
   "source": [
    "!pip install scipy"
   ]
  },
  {
   "cell_type": "code",
   "execution_count": null,
   "metadata": {},
   "outputs": [],
   "source": []
  }
 ],
 "metadata": {
  "kernelspec": {
   "display_name": "Python 3",
   "language": "python",
   "name": "python3"
  },
  "language_info": {
   "codemirror_mode": {
    "name": "ipython",
    "version": 3
   },
   "file_extension": ".py",
   "mimetype": "text/x-python",
   "name": "python",
   "nbconvert_exporter": "python",
   "pygments_lexer": "ipython3",
   "version": "3.7.6"
  }
 },
 "nbformat": 4,
 "nbformat_minor": 5
}
